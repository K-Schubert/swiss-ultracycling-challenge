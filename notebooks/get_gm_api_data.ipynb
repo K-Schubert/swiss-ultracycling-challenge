{
 "cells": [
  {
   "cell_type": "code",
   "execution_count": 1,
   "id": "5c2cf96c",
   "metadata": {},
   "outputs": [],
   "source": [
    "import os\n",
    "import json\n",
    "import ast\n",
    "\n",
    "from dotenv import load_dotenv\n",
    "\n",
    "from utils.googlemaps.api import gm_distance_api, chunks"
   ]
  },
  {
   "cell_type": "markdown",
   "id": "d4c3e9ae",
   "metadata": {},
   "source": [
    "# LOAD ENV VARIABLES"
   ]
  },
  {
   "cell_type": "code",
   "execution_count": 2,
   "id": "226c979e",
   "metadata": {},
   "outputs": [],
   "source": [
    "load_dotenv()\n",
    "\n",
    "API_KEY_PATH = os.environ['API_KEY_PATH']\n",
    "DATA_PATH = os.environ['DATA_PATH']"
   ]
  },
  {
   "cell_type": "code",
   "execution_count": 3,
   "id": "66a4f7bd",
   "metadata": {},
   "outputs": [],
   "source": [
    "with open(os.path.join(API_KEY_PATH, 'api_key.json'), 'r') as file:\n",
    "    API_KEY = json.load(file)"
   ]
  },
  {
   "cell_type": "markdown",
   "id": "9773fd84",
   "metadata": {},
   "source": [
    "# LOAD CHECKPOINTS"
   ]
  },
  {
   "cell_type": "code",
   "execution_count": 4,
   "id": "8657613c",
   "metadata": {},
   "outputs": [],
   "source": [
    "with open(os.path.join(DATA_PATH, 'CHECKPOINTS', 'mandatory_checkpoints.json'), 'r') as file:\n",
    "    mandatory_checkpoints = json.load(file)\n",
    "    \n",
    "mandatory_checkpoints = {k: ast.literal_eval(v) for k, v in mandatory_checkpoints.items()}\n",
    "\n",
    "with open(os.path.join(DATA_PATH, 'CHECKPOINTS', 'target_coords.json'), 'r') as file:\n",
    "    target_coords = json.load(file)\n",
    "    \n",
    "target_coords= {k: ast.literal_eval(v) for k, v in target_coords.items()}"
   ]
  },
  {
   "cell_type": "code",
   "execution_count": 5,
   "id": "4978bbc2",
   "metadata": {},
   "outputs": [],
   "source": [
    "checkpoints = mandatory_checkpoints.copy()\n",
    "checkpoints.update(target_coords)"
   ]
  },
  {
   "cell_type": "code",
   "execution_count": 6,
   "id": "2b9ed5c4",
   "metadata": {},
   "outputs": [
    {
     "data": {
      "text/plain": [
       "{'st_imier_haut': (47.158679, 6.992699),\n",
       " 'st_imier_bas': (47.15127, 6.99283),\n",
       " 'lenzerheide_haut': (46.72093, 9.530324),\n",
       " 'lenzerheide_bas_lift': (46.724895, 9.547017),\n",
       " 'lenzerheide_bas_sporz': (46.715323, 9.540237),\n",
       " 'beckenried': (46.967084, 8.475212),\n",
       " 'gersau': (46.990807, 8.525738),\n",
       " 'goschenen': (46.665698, 8.588439),\n",
       " 'sanetsch': (46.363102, 7.295129),\n",
       " 'versoix': (46.295182, 6.167042),\n",
       " 'mies': (46.296179, 6.168144),\n",
       " 'st_maurice': (46.223444, 7.003184),\n",
       " 'diablerets': (46.361971, 7.228706),\n",
       " 'rougemont': (46.486861, 7.228648),\n",
       " 'chatel_st_denis': (46.512836, 6.911657),\n",
       " 'vaumarcus': (46.870955, 6.754053),\n",
       " 'chaux_de_fond': (47.122309, 6.885278),\n",
       " 'chasseral': (47.125755, 7.038184),\n",
       " 'delemont': (47.375549, 7.3615),\n",
       " 'liesberg': (47.397281, 7.400262),\n",
       " 'liesberg_2': (47.402422, 7.443518),\n",
       " 'basel': (47.535692, 7.609889),\n",
       " 'kaiseraugst': (47.536199, 7.721017),\n",
       " 'kaiserstuhl': (47.564849, 8.420254),\n",
       " 'aadorf': (47.494296, 8.894507),\n",
       " 'wil': (47.466492, 9.029698),\n",
       " 'herisau': (47.399475, 9.261252),\n",
       " 'appenzell': (47.355118, 9.354994),\n",
       " 'muhlehorn': (47.115214, 9.188269),\n",
       " 'ussbuhl': (47.163677, 8.994137),\n",
       " 'kussnacht': (47.113982, 8.455709),\n",
       " 'boschenrot': (47.116249, 8.463129),\n",
       " 'horw': (46.998539, 8.311766),\n",
       " 'alpnach': (46.969442, 8.310239),\n",
       " 'airolo': (46.529486, 8.606202),\n",
       " 'rudlingen': (47.577124, 8.577448),\n",
       " 'kerzers': (46.976142, 7.195673),\n",
       " 'gsteig': (46.375759, 7.280778),\n",
       " 'saanen': (46.486699, 7.229206),\n",
       " 'neuenegg': (46.894024, 7.324216),\n",
       " 'gurbru': (46.965445, 7.207367),\n",
       " 'erlach': (47.045467, 7.066983),\n",
       " 'renan': (47.123013, 6.886141),\n",
       " 'petit_val': (47.287911, 7.223027),\n",
       " 'ferenbalm': (46.94024, 7.206147),\n",
       " 'henniez': (46.728007, 6.868603),\n",
       " 'sauge': (46.97648, 7.057238),\n",
       " 'chatel_st_denis_2': (46.513152, 6.912168),\n",
       " 'neuenegg_2': (46.893332, 7.324037),\n",
       " 'montbovon': (46.474772, 7.038037),\n",
       " 'nufenen': (46.477711, 8.389276),\n",
       " 'san_gottardo': (46.581213, 8.558888),\n",
       " 'lukmanier': (46.563221, 8.801186),\n",
       " 'lumino': (46.233249, 9.079497),\n",
       " 'oberalp': (46.658568, 8.671263),\n",
       " 'bad_ragaz': (46.975269, 9.543784),\n",
       " 'bern': (46.947277, 7.44419)}"
      ]
     },
     "execution_count": 6,
     "metadata": {},
     "output_type": "execute_result"
    }
   ],
   "source": [
    "checkpoints"
   ]
  },
  {
   "cell_type": "markdown",
   "id": "7bd4fda1",
   "metadata": {},
   "source": [
    "# GET API DATA"
   ]
  },
  {
   "cell_type": "code",
   "execution_count": 8,
   "id": "b30f7d49",
   "metadata": {},
   "outputs": [],
   "source": [
    "api_data_time = {}\n",
    "api_data_dist = {}\n",
    "\n",
    "for cp, coord in checkpoints.items():\n",
    "    \n",
    "    destinations = checkpoints.copy()\n",
    "    destinations.pop(cp)\n",
    "    destinations = [x for x in destinations.values()]\n",
    "    \n",
    "    time = []\n",
    "    distance = []\n",
    "    if len(destinations) > 25:\n",
    "        \n",
    "        for chunk_destinations in chunks(destinations, 25):\n",
    "            \n",
    "            data = gm_distance_api(coord, chunk_destinations, API_KEY)\n",
    "            time.extend(data['time'])\n",
    "            distance.extend(data['distance'])\n",
    "            \n",
    "    else:\n",
    "        \n",
    "        data = gm_distance_api(coord, destinations, API_KEY)\n",
    "        time.extend(data['time'])\n",
    "        distance.extend(data['distance'])\n",
    "    \n",
    "    api_data_time[data['origin_addresses'][0]] = time\n",
    "    api_data_dist[data['origin_addresses'][0]] = distance"
   ]
  },
  {
   "cell_type": "markdown",
   "id": "16c822ca",
   "metadata": {},
   "source": [
    "# SAVE DATA"
   ]
  },
  {
   "cell_type": "code",
   "execution_count": 9,
   "id": "2e6279b9",
   "metadata": {},
   "outputs": [],
   "source": [
    "with open(os.path.join(DATA_PATH, 'DIST_MATRIX', 'api_data_dist_05.json'), 'w') as outfile:\n",
    "    json.dump(api_data_dist, outfile)\n",
    "    \n",
    "with open(os.path.join(DATA_PATH, 'DIST_MATRIX', 'api_data_time_05.json'), 'w') as outfile:\n",
    "    json.dump(api_data_time, outfile)\n",
    "    \n",
    "with open(os.path.join(DATA_PATH, 'DIST_MATRIX', 'checkpoints_05.json'), 'w') as outfile:\n",
    "    json.dump(checkpoints, outfile)"
   ]
  },
  {
   "cell_type": "code",
   "execution_count": null,
   "id": "1b477774",
   "metadata": {},
   "outputs": [],
   "source": []
  }
 ],
 "metadata": {
  "kernelspec": {
   "display_name": "Python 3 (ipykernel)",
   "language": "python",
   "name": "python3"
  },
  "language_info": {
   "codemirror_mode": {
    "name": "ipython",
    "version": 3
   },
   "file_extension": ".py",
   "mimetype": "text/x-python",
   "name": "python",
   "nbconvert_exporter": "python",
   "pygments_lexer": "ipython3",
   "version": "3.9.7"
  }
 },
 "nbformat": 4,
 "nbformat_minor": 5
}
