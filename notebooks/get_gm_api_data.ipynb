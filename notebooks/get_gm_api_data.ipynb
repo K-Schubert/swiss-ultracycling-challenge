{
 "cells": [
  {
   "cell_type": "code",
   "execution_count": null,
   "id": "5c2cf96c",
   "metadata": {},
   "outputs": [],
   "source": [
    "import os\n",
    "import json\n",
    "\n",
    "from dotenv import load_dotenv\n",
    "\n",
    "from utils.googlemaps.api import gm_distance_api, chunks"
   ]
  },
  {
   "cell_type": "markdown",
   "id": "d4c3e9ae",
   "metadata": {},
   "source": [
    "# LOAD ENV VARIABLES"
   ]
  },
  {
   "cell_type": "code",
   "execution_count": null,
   "id": "226c979e",
   "metadata": {},
   "outputs": [],
   "source": [
    "load_dotenv()\n",
    "\n",
    "API_KEY_PATH = os.environ['API_KEY_PATH']\n",
    "DATA_PATH = os.environ['DATA_PATH']"
   ]
  },
  {
   "cell_type": "code",
   "execution_count": null,
   "id": "66a4f7bd",
   "metadata": {},
   "outputs": [],
   "source": [
    "with open(os.path.join(API_KEY_PATH, 'api_key.json'), 'r') as file:\n",
    "    API_KEY = json.load(file)"
   ]
  },
  {
   "cell_type": "markdown",
   "id": "7bd4fda1",
   "metadata": {},
   "source": [
    "# GET API DATA"
   ]
  },
  {
   "cell_type": "code",
   "execution_count": null,
   "id": "b30f7d49",
   "metadata": {},
   "outputs": [],
   "source": [
    "api_data_time = {}\n",
    "api_data_dist = {}\n",
    "\n",
    "for cp, coord in checkpoints.items():\n",
    "    \n",
    "    destinations = checkpoints.copy()\n",
    "    destinations.pop(cp)\n",
    "    destinations = [x for x in destinations.values()]\n",
    "    \n",
    "    time = []\n",
    "    distance = []\n",
    "    if len(destinations) > 25:\n",
    "        \n",
    "        for chunk_destinations in chunks(destinations, 25):\n",
    "            \n",
    "            data = gm_distance_api(coord, chunk_destinations)\n",
    "            time.extend(data['time'])\n",
    "            distance.extend(data['distance'])\n",
    "            \n",
    "    else:\n",
    "        \n",
    "        data = gm_distance_api(coord, destinations)\n",
    "        time.extend(data['time'])\n",
    "        distance.extend(data['distance'])\n",
    "    \n",
    "    api_data_time[data['origin_addresses'][0]] = time\n",
    "    api_data_dist[data['origin_addresses'][0]] = distance"
   ]
  },
  {
   "cell_type": "markdown",
   "id": "16c822ca",
   "metadata": {},
   "source": [
    "# SAVE DATA"
   ]
  },
  {
   "cell_type": "code",
   "execution_count": null,
   "id": "2e6279b9",
   "metadata": {},
   "outputs": [],
   "source": [
    "with open(os.path.join(DATA_PATH, 'DIST_MATRIX', 'api_data_dist_02.json'), 'w') as outfile:\n",
    "    json.dump(api_data_dist, outfile)\n",
    "    \n",
    "with open(os.path.join(DATA_PATH, 'DIST_MATRIX', 'api_data_time_02.json'), 'w') as outfile:\n",
    "    json.dump(api_data_time, outfile)\n",
    "    \n",
    "with open(os.path.join(DATA_PATH, 'DIST_MATRIX', 'checkpoints_02.json'), 'w') as outfile:\n",
    "    json.dump(checkpoints, outfile)"
   ]
  }
 ],
 "metadata": {
  "kernelspec": {
   "display_name": "Python 3 (ipykernel)",
   "language": "python",
   "name": "python3"
  },
  "language_info": {
   "codemirror_mode": {
    "name": "ipython",
    "version": 3
   },
   "file_extension": ".py",
   "mimetype": "text/x-python",
   "name": "python",
   "nbconvert_exporter": "python",
   "pygments_lexer": "ipython3",
   "version": "3.9.7"
  }
 },
 "nbformat": 4,
 "nbformat_minor": 5
}
