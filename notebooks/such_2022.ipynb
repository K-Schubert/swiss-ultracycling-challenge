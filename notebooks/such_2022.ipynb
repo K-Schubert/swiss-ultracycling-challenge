{
 "cells": [
  {
   "cell_type": "markdown",
   "id": "cbf539dc",
   "metadata": {},
   "source": [
    "- SUCH 2022\n",
    "- WITH TRANSPORTATION AT ALL CPs"
   ]
  },
  {
   "cell_type": "code",
   "execution_count": 1,
   "id": "08418def",
   "metadata": {},
   "outputs": [],
   "source": [
    "import pandas as pd\n",
    "import numpy as np\n",
    "import requests\n",
    "import ast\n",
    "import json\n",
    "import tqdm\n",
    "import geopandas as gpd\n",
    "import matplotlib.pyplot as plt\n",
    "import os\n",
    "import datetime\n",
    "import tqdm\n",
    "\n",
    "from dotenv import load_dotenv\n",
    "\n",
    "from utils.googlemaps.api import gm_distance_api, chunks\n",
    "from utils.reporting.reports import getRouteReport\n",
    "from utils.gtsp.GTSPutils import createDistanceMatrix, createDummyNode, createClusters, createGTSPfile, loadOptimalTour, reOrderTour, evaluateTour\n",
    "from utils.gpsconversion.conversionapi import convertWSG84toMN95"
   ]
  },
  {
   "cell_type": "markdown",
   "id": "f2ffe70c",
   "metadata": {},
   "source": [
    "# LOAD ENV VARIABLES"
   ]
  },
  {
   "cell_type": "code",
   "execution_count": 2,
   "id": "2d17ff3b",
   "metadata": {},
   "outputs": [],
   "source": [
    "load_dotenv()\n",
    "\n",
    "DATA_PATH = os.environ['DATA_PATH']"
   ]
  },
  {
   "cell_type": "markdown",
   "id": "4230ea8c",
   "metadata": {},
   "source": [
    "# IMPORT COORDS"
   ]
  },
  {
   "cell_type": "code",
   "execution_count": 3,
   "id": "8cede1bd",
   "metadata": {},
   "outputs": [],
   "source": [
    "data_version = '05'"
   ]
  },
  {
   "cell_type": "code",
   "execution_count": 4,
   "id": "8657613c",
   "metadata": {},
   "outputs": [],
   "source": [
    "with open(os.path.join(DATA_PATH, 'CHECKPOINTS', 'mandatory_checkpoints.json'), 'r') as file:\n",
    "    mandatory_checkpoints = json.load(file)\n",
    "    \n",
    "mandatory_checkpoints = {k: ast.literal_eval(v) for k, v in mandatory_checkpoints.items()}\n",
    "\n",
    "#with open(os.path.join(DATA_PATH, 'CHECKPOINTS', 'target_coords.json'), 'r') as file:\n",
    "#    target_coords = json.load(file)\n",
    "#    \n",
    "#target_coords= {k: ast.literal_eval(v) for k, v in target_coords.items()}"
   ]
  },
  {
   "cell_type": "code",
   "execution_count": 5,
   "id": "d8e4c8d4",
   "metadata": {},
   "outputs": [],
   "source": [
    "with open(os.path.join(DATA_PATH, 'DIST_MATRIX', f'checkpoints_{data_version}.json'), 'r') as file:\n",
    "    target_coords = json.load(file)\n",
    "    \n",
    "target_coords= {k: tuple(v) for k, v in target_coords.items()}"
   ]
  },
  {
   "cell_type": "code",
   "execution_count": 6,
   "id": "4978bbc2",
   "metadata": {},
   "outputs": [],
   "source": [
    "checkpoints = mandatory_checkpoints.copy()\n",
    "checkpoints.update(target_coords)"
   ]
  },
  {
   "cell_type": "code",
   "execution_count": 7,
   "id": "e122babe",
   "metadata": {},
   "outputs": [
    {
     "data": {
      "text/plain": [
       "{'st_imier_haut': (47.158679, 6.992699),\n",
       " 'st_imier_bas': (47.15127, 6.99283),\n",
       " 'lenzerheide_haut': (46.72093, 9.530324),\n",
       " 'lenzerheide_bas_lift': (46.724895, 9.547017),\n",
       " 'lenzerheide_bas_sporz': (46.715323, 9.540237),\n",
       " 'beckenried': (46.967084, 8.475212),\n",
       " 'gersau': (46.990807, 8.525738),\n",
       " 'goschenen': (46.665698, 8.588439),\n",
       " 'sanetsch': (46.363102, 7.295129),\n",
       " 'versoix': (46.295182, 6.167042),\n",
       " 'mies': (46.296179, 6.168144),\n",
       " 'st_maurice': (46.223444, 7.003184),\n",
       " 'diablerets': (46.361971, 7.228706),\n",
       " 'rougemont': (46.486861, 7.228648),\n",
       " 'chatel_st_denis': (46.512836, 6.911657),\n",
       " 'vaumarcus': (46.870955, 6.754053),\n",
       " 'chaux_de_fond': (47.122309, 6.885278),\n",
       " 'chasseral': (47.125755, 7.038184),\n",
       " 'delemont': (47.375549, 7.3615),\n",
       " 'liesberg': (47.397281, 7.400262),\n",
       " 'liesberg_2': (47.402422, 7.443518),\n",
       " 'basel': (47.535692, 7.609889),\n",
       " 'kaiseraugst': (47.536199, 7.721017),\n",
       " 'kaiserstuhl': (47.564849, 8.420254),\n",
       " 'aadorf': (47.494296, 8.894507),\n",
       " 'wil': (47.466492, 9.029698),\n",
       " 'herisau': (47.399475, 9.261252),\n",
       " 'appenzell': (47.355118, 9.354994),\n",
       " 'muhlehorn': (47.115214, 9.188269),\n",
       " 'ussbuhl': (47.163677, 8.994137),\n",
       " 'kussnacht': (47.113982, 8.455709),\n",
       " 'boschenrot': (47.116249, 8.463129),\n",
       " 'horw': (46.998539, 8.311766),\n",
       " 'alpnach': (46.969442, 8.310239),\n",
       " 'airolo': (46.529486, 8.606202),\n",
       " 'rudlingen': (47.577124, 8.577448),\n",
       " 'kerzers': (46.976142, 7.195673),\n",
       " 'gsteig': (46.375759, 7.280778),\n",
       " 'saanen': (46.486699, 7.229206),\n",
       " 'neuenegg': (46.894024, 7.324216),\n",
       " 'gurbru': (46.965445, 7.207367),\n",
       " 'erlach': (47.045467, 7.066983),\n",
       " 'renan': (47.123013, 6.886141),\n",
       " 'petit_val': (47.287911, 7.223027),\n",
       " 'ferenbalm': (46.94024, 7.206147),\n",
       " 'henniez': (46.728007, 6.868603),\n",
       " 'sauge': (46.97648, 7.057238),\n",
       " 'chatel_st_denis_2': (46.513152, 6.912168),\n",
       " 'neuenegg_2': (46.893332, 7.324037),\n",
       " 'montbovon': (46.474772, 7.038037),\n",
       " 'nufenen': (46.477711, 8.389276),\n",
       " 'san_gottardo': (46.581213, 8.558888),\n",
       " 'lukmanier': (46.563221, 8.801186),\n",
       " 'lumino': (46.233249, 9.079497),\n",
       " 'oberalp': (46.658568, 8.671263),\n",
       " 'bad_ragaz': (46.975269, 9.543784),\n",
       " 'bern': (46.947277, 7.44419)}"
      ]
     },
     "execution_count": 7,
     "metadata": {},
     "output_type": "execute_result"
    }
   ],
   "source": [
    "checkpoints"
   ]
  },
  {
   "cell_type": "markdown",
   "id": "2f1aabd5",
   "metadata": {},
   "source": [
    "# IMPORT CP OPENING TIMES"
   ]
  },
  {
   "cell_type": "code",
   "execution_count": 8,
   "id": "4d0031d0",
   "metadata": {},
   "outputs": [
    {
     "ename": "NameError",
     "evalue": "name 'cp_opening_times' is not defined",
     "output_type": "error",
     "traceback": [
      "\u001b[0;31m---------------------------------------------------------------------------\u001b[0m",
      "\u001b[0;31mNameError\u001b[0m                                 Traceback (most recent call last)",
      "\u001b[0;32m/var/folders/7_/85hx44gd4sb_6w_n8wqmfj3c0000gn/T/ipykernel_54118/2849123034.py\u001b[0m in \u001b[0;36m<module>\u001b[0;34m\u001b[0m\n\u001b[1;32m      1\u001b[0m \u001b[0;32mwith\u001b[0m \u001b[0mopen\u001b[0m\u001b[0;34m(\u001b[0m\u001b[0mos\u001b[0m\u001b[0;34m.\u001b[0m\u001b[0mpath\u001b[0m\u001b[0;34m.\u001b[0m\u001b[0mjoin\u001b[0m\u001b[0;34m(\u001b[0m\u001b[0mDATA_PATH\u001b[0m\u001b[0;34m,\u001b[0m \u001b[0;34m'CHECKPOINTS'\u001b[0m\u001b[0;34m,\u001b[0m \u001b[0;34m'cp_opening_times.json'\u001b[0m\u001b[0;34m)\u001b[0m\u001b[0;34m,\u001b[0m \u001b[0;34m'w'\u001b[0m\u001b[0;34m)\u001b[0m \u001b[0;32mas\u001b[0m \u001b[0moutfile\u001b[0m\u001b[0;34m:\u001b[0m\u001b[0;34m\u001b[0m\u001b[0;34m\u001b[0m\u001b[0m\n\u001b[1;32m      2\u001b[0m \u001b[0;34m\u001b[0m\u001b[0m\n\u001b[0;32m----> 3\u001b[0;31m     \u001b[0mjson\u001b[0m\u001b[0;34m.\u001b[0m\u001b[0mdump\u001b[0m\u001b[0;34m(\u001b[0m\u001b[0mcp_opening_times\u001b[0m\u001b[0;34m,\u001b[0m \u001b[0moutfile\u001b[0m\u001b[0;34m,\u001b[0m \u001b[0mindent\u001b[0m\u001b[0;34m=\u001b[0m\u001b[0;36m4\u001b[0m\u001b[0;34m,\u001b[0m \u001b[0mdefault\u001b[0m\u001b[0;34m=\u001b[0m\u001b[0mstr\u001b[0m\u001b[0;34m)\u001b[0m\u001b[0;34m\u001b[0m\u001b[0;34m\u001b[0m\u001b[0m\n\u001b[0m",
      "\u001b[0;31mNameError\u001b[0m: name 'cp_opening_times' is not defined"
     ]
    }
   ],
   "source": [
    "with open(os.path.join(DATA_PATH, 'CHECKPOINTS', 'cp_opening_times.json'), 'w') as outfile:\n",
    "\n",
    "    json.dump(cp_opening_times, outfile, indent=4, default=str)"
   ]
  },
  {
   "cell_type": "code",
   "execution_count": 9,
   "id": "625f4ca5",
   "metadata": {},
   "outputs": [
    {
     "ename": "JSONDecodeError",
     "evalue": "Expecting value: line 1 column 1 (char 0)",
     "output_type": "error",
     "traceback": [
      "\u001b[0;31m---------------------------------------------------------------------------\u001b[0m",
      "\u001b[0;31mJSONDecodeError\u001b[0m                           Traceback (most recent call last)",
      "\u001b[0;32m/var/folders/7_/85hx44gd4sb_6w_n8wqmfj3c0000gn/T/ipykernel_54118/1283612508.py\u001b[0m in \u001b[0;36m<module>\u001b[0;34m\u001b[0m\n\u001b[1;32m      1\u001b[0m \u001b[0;32mwith\u001b[0m \u001b[0mopen\u001b[0m\u001b[0;34m(\u001b[0m\u001b[0mos\u001b[0m\u001b[0;34m.\u001b[0m\u001b[0mpath\u001b[0m\u001b[0;34m.\u001b[0m\u001b[0mjoin\u001b[0m\u001b[0;34m(\u001b[0m\u001b[0mDATA_PATH\u001b[0m\u001b[0;34m,\u001b[0m \u001b[0;34m'CHECKPOINTS'\u001b[0m\u001b[0;34m,\u001b[0m \u001b[0;34m'cp_opening_times.json'\u001b[0m\u001b[0;34m)\u001b[0m\u001b[0;34m,\u001b[0m \u001b[0;34m'r'\u001b[0m\u001b[0;34m)\u001b[0m \u001b[0;32mas\u001b[0m \u001b[0mfile\u001b[0m\u001b[0;34m:\u001b[0m\u001b[0;34m\u001b[0m\u001b[0;34m\u001b[0m\u001b[0m\n\u001b[0;32m----> 2\u001b[0;31m     \u001b[0mcp_opening_times\u001b[0m \u001b[0;34m=\u001b[0m \u001b[0mjson\u001b[0m\u001b[0;34m.\u001b[0m\u001b[0mload\u001b[0m\u001b[0;34m(\u001b[0m\u001b[0mfile\u001b[0m\u001b[0;34m)\u001b[0m\u001b[0;34m\u001b[0m\u001b[0;34m\u001b[0m\u001b[0m\n\u001b[0m\u001b[1;32m      3\u001b[0m \u001b[0;34m\u001b[0m\u001b[0m\n\u001b[1;32m      4\u001b[0m \u001b[0;31m#cp_opening_times = {k: ast.literal_eval(v) for k, v in cp_opening_times.items()}\u001b[0m\u001b[0;34m\u001b[0m\u001b[0;34m\u001b[0m\u001b[0m\n",
      "\u001b[0;32m/opt/anaconda3/lib/python3.9/json/__init__.py\u001b[0m in \u001b[0;36mload\u001b[0;34m(fp, cls, object_hook, parse_float, parse_int, parse_constant, object_pairs_hook, **kw)\u001b[0m\n\u001b[1;32m    291\u001b[0m     \u001b[0mkwarg\u001b[0m\u001b[0;34m;\u001b[0m \u001b[0motherwise\u001b[0m\u001b[0;31m \u001b[0m\u001b[0;31m`\u001b[0m\u001b[0;31m`\u001b[0m\u001b[0mJSONDecoder\u001b[0m\u001b[0;31m`\u001b[0m\u001b[0;31m`\u001b[0m \u001b[0;32mis\u001b[0m \u001b[0mused\u001b[0m\u001b[0;34m.\u001b[0m\u001b[0;34m\u001b[0m\u001b[0;34m\u001b[0m\u001b[0m\n\u001b[1;32m    292\u001b[0m     \"\"\"\n\u001b[0;32m--> 293\u001b[0;31m     return loads(fp.read(),\n\u001b[0m\u001b[1;32m    294\u001b[0m         \u001b[0mcls\u001b[0m\u001b[0;34m=\u001b[0m\u001b[0mcls\u001b[0m\u001b[0;34m,\u001b[0m \u001b[0mobject_hook\u001b[0m\u001b[0;34m=\u001b[0m\u001b[0mobject_hook\u001b[0m\u001b[0;34m,\u001b[0m\u001b[0;34m\u001b[0m\u001b[0;34m\u001b[0m\u001b[0m\n\u001b[1;32m    295\u001b[0m         \u001b[0mparse_float\u001b[0m\u001b[0;34m=\u001b[0m\u001b[0mparse_float\u001b[0m\u001b[0;34m,\u001b[0m \u001b[0mparse_int\u001b[0m\u001b[0;34m=\u001b[0m\u001b[0mparse_int\u001b[0m\u001b[0;34m,\u001b[0m\u001b[0;34m\u001b[0m\u001b[0;34m\u001b[0m\u001b[0m\n",
      "\u001b[0;32m/opt/anaconda3/lib/python3.9/json/__init__.py\u001b[0m in \u001b[0;36mloads\u001b[0;34m(s, cls, object_hook, parse_float, parse_int, parse_constant, object_pairs_hook, **kw)\u001b[0m\n\u001b[1;32m    344\u001b[0m             \u001b[0mparse_int\u001b[0m \u001b[0;32mis\u001b[0m \u001b[0;32mNone\u001b[0m \u001b[0;32mand\u001b[0m \u001b[0mparse_float\u001b[0m \u001b[0;32mis\u001b[0m \u001b[0;32mNone\u001b[0m \u001b[0;32mand\u001b[0m\u001b[0;34m\u001b[0m\u001b[0;34m\u001b[0m\u001b[0m\n\u001b[1;32m    345\u001b[0m             parse_constant is None and object_pairs_hook is None and not kw):\n\u001b[0;32m--> 346\u001b[0;31m         \u001b[0;32mreturn\u001b[0m \u001b[0m_default_decoder\u001b[0m\u001b[0;34m.\u001b[0m\u001b[0mdecode\u001b[0m\u001b[0;34m(\u001b[0m\u001b[0ms\u001b[0m\u001b[0;34m)\u001b[0m\u001b[0;34m\u001b[0m\u001b[0;34m\u001b[0m\u001b[0m\n\u001b[0m\u001b[1;32m    347\u001b[0m     \u001b[0;32mif\u001b[0m \u001b[0mcls\u001b[0m \u001b[0;32mis\u001b[0m \u001b[0;32mNone\u001b[0m\u001b[0;34m:\u001b[0m\u001b[0;34m\u001b[0m\u001b[0;34m\u001b[0m\u001b[0m\n\u001b[1;32m    348\u001b[0m         \u001b[0mcls\u001b[0m \u001b[0;34m=\u001b[0m \u001b[0mJSONDecoder\u001b[0m\u001b[0;34m\u001b[0m\u001b[0;34m\u001b[0m\u001b[0m\n",
      "\u001b[0;32m/opt/anaconda3/lib/python3.9/json/decoder.py\u001b[0m in \u001b[0;36mdecode\u001b[0;34m(self, s, _w)\u001b[0m\n\u001b[1;32m    335\u001b[0m \u001b[0;34m\u001b[0m\u001b[0m\n\u001b[1;32m    336\u001b[0m         \"\"\"\n\u001b[0;32m--> 337\u001b[0;31m         \u001b[0mobj\u001b[0m\u001b[0;34m,\u001b[0m \u001b[0mend\u001b[0m \u001b[0;34m=\u001b[0m \u001b[0mself\u001b[0m\u001b[0;34m.\u001b[0m\u001b[0mraw_decode\u001b[0m\u001b[0;34m(\u001b[0m\u001b[0ms\u001b[0m\u001b[0;34m,\u001b[0m \u001b[0midx\u001b[0m\u001b[0;34m=\u001b[0m\u001b[0m_w\u001b[0m\u001b[0;34m(\u001b[0m\u001b[0ms\u001b[0m\u001b[0;34m,\u001b[0m \u001b[0;36m0\u001b[0m\u001b[0;34m)\u001b[0m\u001b[0;34m.\u001b[0m\u001b[0mend\u001b[0m\u001b[0;34m(\u001b[0m\u001b[0;34m)\u001b[0m\u001b[0;34m)\u001b[0m\u001b[0;34m\u001b[0m\u001b[0;34m\u001b[0m\u001b[0m\n\u001b[0m\u001b[1;32m    338\u001b[0m         \u001b[0mend\u001b[0m \u001b[0;34m=\u001b[0m \u001b[0m_w\u001b[0m\u001b[0;34m(\u001b[0m\u001b[0ms\u001b[0m\u001b[0;34m,\u001b[0m \u001b[0mend\u001b[0m\u001b[0;34m)\u001b[0m\u001b[0;34m.\u001b[0m\u001b[0mend\u001b[0m\u001b[0;34m(\u001b[0m\u001b[0;34m)\u001b[0m\u001b[0;34m\u001b[0m\u001b[0;34m\u001b[0m\u001b[0m\n\u001b[1;32m    339\u001b[0m         \u001b[0;32mif\u001b[0m \u001b[0mend\u001b[0m \u001b[0;34m!=\u001b[0m \u001b[0mlen\u001b[0m\u001b[0;34m(\u001b[0m\u001b[0ms\u001b[0m\u001b[0;34m)\u001b[0m\u001b[0;34m:\u001b[0m\u001b[0;34m\u001b[0m\u001b[0;34m\u001b[0m\u001b[0m\n",
      "\u001b[0;32m/opt/anaconda3/lib/python3.9/json/decoder.py\u001b[0m in \u001b[0;36mraw_decode\u001b[0;34m(self, s, idx)\u001b[0m\n\u001b[1;32m    353\u001b[0m             \u001b[0mobj\u001b[0m\u001b[0;34m,\u001b[0m \u001b[0mend\u001b[0m \u001b[0;34m=\u001b[0m \u001b[0mself\u001b[0m\u001b[0;34m.\u001b[0m\u001b[0mscan_once\u001b[0m\u001b[0;34m(\u001b[0m\u001b[0ms\u001b[0m\u001b[0;34m,\u001b[0m \u001b[0midx\u001b[0m\u001b[0;34m)\u001b[0m\u001b[0;34m\u001b[0m\u001b[0;34m\u001b[0m\u001b[0m\n\u001b[1;32m    354\u001b[0m         \u001b[0;32mexcept\u001b[0m \u001b[0mStopIteration\u001b[0m \u001b[0;32mas\u001b[0m \u001b[0merr\u001b[0m\u001b[0;34m:\u001b[0m\u001b[0;34m\u001b[0m\u001b[0;34m\u001b[0m\u001b[0m\n\u001b[0;32m--> 355\u001b[0;31m             \u001b[0;32mraise\u001b[0m \u001b[0mJSONDecodeError\u001b[0m\u001b[0;34m(\u001b[0m\u001b[0;34m\"Expecting value\"\u001b[0m\u001b[0;34m,\u001b[0m \u001b[0ms\u001b[0m\u001b[0;34m,\u001b[0m \u001b[0merr\u001b[0m\u001b[0;34m.\u001b[0m\u001b[0mvalue\u001b[0m\u001b[0;34m)\u001b[0m \u001b[0;32mfrom\u001b[0m \u001b[0;32mNone\u001b[0m\u001b[0;34m\u001b[0m\u001b[0;34m\u001b[0m\u001b[0m\n\u001b[0m\u001b[1;32m    356\u001b[0m         \u001b[0;32mreturn\u001b[0m \u001b[0mobj\u001b[0m\u001b[0;34m,\u001b[0m \u001b[0mend\u001b[0m\u001b[0;34m\u001b[0m\u001b[0;34m\u001b[0m\u001b[0m\n",
      "\u001b[0;31mJSONDecodeError\u001b[0m: Expecting value: line 1 column 1 (char 0)"
     ]
    }
   ],
   "source": [
    "with open(os.path.join(DATA_PATH, 'CHECKPOINTS', 'cp_opening_times.json'), 'r') as file:\n",
    "    cp_opening_times = json.load(file)\n",
    "    \n",
    "#cp_opening_times = {k: ast.literal_eval(v) for k, v in cp_opening_times.items()}"
   ]
  },
  {
   "cell_type": "code",
   "execution_count": 10,
   "id": "1eaf3734",
   "metadata": {},
   "outputs": [],
   "source": [
    "cp_opening_times = {'st_imier_bas': [datetime.datetime.strptime('7/9/2022 06:35', '%d/%m/%Y %H:%M'),\n",
    "                                 datetime.datetime.strptime('7/9/2022 23:10', '%d/%m/%Y %H:%M'),\n",
    "                                 datetime.datetime.strptime('8/9/2022 06:35', '%d/%m/%Y %H:%M'),\n",
    "                                 datetime.datetime.strptime('8/9/2022 23:10', '%d/%m/%Y %H:%M')],\n",
    "                    'st_imier_haut': [datetime.datetime.strptime('7/9/2022 06:35', '%d/%m/%Y %H:%M'),\n",
    "                                 datetime.datetime.strptime('7/9/2022 23:10', '%d/%m/%Y %H:%M'),\n",
    "                                 datetime.datetime.strptime('8/9/2022 06:35', '%d/%m/%Y %H:%M'),\n",
    "                                 datetime.datetime.strptime('8/9/2022 23:10', '%d/%m/%Y %H:%M')], \n",
    "                    'lenzerheide_haut': [datetime.datetime.strptime('7/9/2022 09:00', '%d/%m/%Y %H:%M'),\n",
    "                                    datetime.datetime.strptime('7/9/2022 17:00', '%d/%m/%Y %H:%M'),\n",
    "                                    datetime.datetime.strptime('8/9/2022 09:00', '%d/%m/%Y %H:%M'),\n",
    "                                    datetime.datetime.strptime('8/9/2022 17:00', '%d/%m/%Y %H:%M')],\n",
    "                    'lenzerheide_bas_lift': [datetime.datetime.strptime('7/9/2022 09:00', '%d/%m/%Y %H:%M'),\n",
    "                                    datetime.datetime.strptime('7/9/2022 17:00', '%d/%m/%Y %H:%M'),\n",
    "                                    datetime.datetime.strptime('8/9/2022 09:00', '%d/%m/%Y %H:%M'),\n",
    "                                    datetime.datetime.strptime('8/9/2022 17:00', '%d/%m/%Y %H:%M')],\n",
    "                    'lenzerheide_bas_sporz': [datetime.datetime.strptime('7/9/2022 09:00', '%d/%m/%Y %H:%M'),\n",
    "                                    datetime.datetime.strptime('7/9/2022 17:00', '%d/%m/%Y %H:%M'),\n",
    "                                    datetime.datetime.strptime('8/9/2022 09:00', '%d/%m/%Y %H:%M'),\n",
    "                                    datetime.datetime.strptime('8/9/2022 17:00', '%d/%m/%Y %H:%M')],\n",
    "                    'beckenried': [datetime.datetime.strptime('7/9/2022 07:40', '%d/%m/%Y %H:%M'),\n",
    "                                   datetime.datetime.strptime('7/9/2022 18:40', '%d/%m/%Y %H:%M'),\n",
    "                                   datetime.datetime.strptime('8/9/2022 07:40', '%d/%m/%Y %H:%M'),\n",
    "                                   datetime.datetime.strptime('8/9/2022 18:40', '%d/%m/%Y %H:%M')],\n",
    "                    'gersau': [datetime.datetime.strptime('7/9/2022 07:00', '%d/%m/%Y %H:%M'),\n",
    "                               datetime.datetime.strptime('7/9/2022 18:00', '%d/%m/%Y %H:%M'),\n",
    "                               datetime.datetime.strptime('8/9/2022 07:00', '%d/%m/%Y %H:%M'),\n",
    "                               datetime.datetime.strptime('8/9/2022 18:00', '%d/%m/%Y %H:%M')],\n",
    "                    'goschenen': [datetime.datetime.strptime('7/9/2022 06:51', '%d/%m/%Y %H:%M'),\n",
    "                                  datetime.datetime.strptime('7/9/2022 21:51', '%d/%m/%Y %H:%M'),\n",
    "                                  datetime.datetime.strptime('8/9/2022 06:51', '%d/%m/%Y %H:%M'),\n",
    "                                  datetime.datetime.strptime('8/9/2022 21:51', '%d/%m/%Y %H:%M')],\n",
    "                    'sanetsch': [datetime.datetime.strptime('7/9/2022 08:30', '%d/%m/%Y %H:%M'),\n",
    "                                 datetime.datetime.strptime('7/9/2022 17:00', '%d/%m/%Y %H:%M'),\n",
    "                                 datetime.datetime.strptime('8/9/2022 08:30', '%d/%m/%Y %H:%M'),\n",
    "                                 datetime.datetime.strptime('8/9/2022 17:00', '%d/%m/%Y %H:%M')]}"
   ]
  },
  {
   "cell_type": "markdown",
   "id": "e70b02be",
   "metadata": {},
   "source": [
    "# LOAD CLUSTER MAPPING"
   ]
  },
  {
   "cell_type": "code",
   "execution_count": null,
   "id": "ca2395d6",
   "metadata": {},
   "outputs": [],
   "source": [
    "with open(os.path.join(DATA_PATH, 'CHECKPOINTS', 'cluster_mapping.json'), 'r') as file:\n",
    "    cluster_mapping = json.load(file)"
   ]
  },
  {
   "cell_type": "markdown",
   "id": "bd26611c",
   "metadata": {},
   "source": [
    "# RUN CELL WITH DIFFERENT START POINTS TO GENERATE REPORTS"
   ]
  },
  {
   "cell_type": "code",
   "execution_count": 11,
   "id": "70461a57",
   "metadata": {},
   "outputs": [
    {
     "ename": "FileNotFoundError",
     "evalue": "[Errno 2] No such file or directory: 'julia'",
     "output_type": "error",
     "traceback": [
      "\u001b[0;31m---------------------------------------------------------------------------\u001b[0m",
      "\u001b[0;31mFileNotFoundError\u001b[0m                         Traceback (most recent call last)",
      "\u001b[0;32m/var/folders/7_/85hx44gd4sb_6w_n8wqmfj3c0000gn/T/ipykernel_54118/2941861466.py\u001b[0m in \u001b[0;36m<module>\u001b[0;34m\u001b[0m\n\u001b[0;32m----> 1\u001b[0;31m reports, reports_r = evaluateTour(start='versoix',\n\u001b[0m\u001b[1;32m      2\u001b[0m                                   \u001b[0mend\u001b[0m\u001b[0;34m=\u001b[0m\u001b[0;34m'bern'\u001b[0m\u001b[0;34m,\u001b[0m\u001b[0;34m\u001b[0m\u001b[0;34m\u001b[0m\u001b[0m\n\u001b[1;32m      3\u001b[0m                                   \u001b[0muse_transport\u001b[0m\u001b[0;34m=\u001b[0m\u001b[0;32mTrue\u001b[0m\u001b[0;34m,\u001b[0m\u001b[0;34m\u001b[0m\u001b[0;34m\u001b[0m\u001b[0m\n\u001b[1;32m      4\u001b[0m                                   \u001b[0moptimize\u001b[0m\u001b[0;34m=\u001b[0m\u001b[0;34m'time'\u001b[0m\u001b[0;34m,\u001b[0m\u001b[0;34m\u001b[0m\u001b[0;34m\u001b[0m\u001b[0m\n\u001b[1;32m      5\u001b[0m                                   \u001b[0mdata_version\u001b[0m\u001b[0;34m=\u001b[0m\u001b[0mdata_version\u001b[0m\u001b[0;34m,\u001b[0m\u001b[0;34m\u001b[0m\u001b[0;34m\u001b[0m\u001b[0m\n",
      "\u001b[0;32m~/Desktop/swiss-ultracycling-challenge/notebooks/utils/gtsp/GTSPutils.py\u001b[0m in \u001b[0;36mevaluateTour\u001b[0;34m(start, end, use_transport, optimize, data_version, save_plot)\u001b[0m\n\u001b[1;32m    266\u001b[0m     \u001b[0;31m#!/Applications/Julia-1.7.app/Contents/Resources/julia/bin/julia ../scripts/gtsp_solver.jl\u001b[0m\u001b[0;34m\u001b[0m\u001b[0;34m\u001b[0m\u001b[0m\n\u001b[1;32m    267\u001b[0m \u001b[0;34m\u001b[0m\u001b[0m\n\u001b[0;32m--> 268\u001b[0;31m     \u001b[0mj\u001b[0m \u001b[0;34m=\u001b[0m \u001b[0mJulia\u001b[0m\u001b[0;34m(\u001b[0m\u001b[0mcompiled_modules\u001b[0m\u001b[0;34m=\u001b[0m\u001b[0;32mFalse\u001b[0m\u001b[0;34m)\u001b[0m\u001b[0;34m\u001b[0m\u001b[0;34m\u001b[0m\u001b[0m\n\u001b[0m\u001b[1;32m    269\u001b[0m     \u001b[0mj\u001b[0m\u001b[0;34m.\u001b[0m\u001b[0minclude\u001b[0m\u001b[0;34m(\u001b[0m\u001b[0;34m\"../scripts/gtsp_solver.jl\"\u001b[0m\u001b[0;34m)\u001b[0m\u001b[0;34m\u001b[0m\u001b[0;34m\u001b[0m\u001b[0m\n\u001b[1;32m    270\u001b[0m \u001b[0;34m\u001b[0m\u001b[0m\n",
      "\u001b[0;32m/opt/anaconda3/lib/python3.9/site-packages/julia/core.py\u001b[0m in \u001b[0;36m__init__\u001b[0;34m(self, init_julia, jl_init_path, runtime, jl_runtime_path, debug, **julia_options)\u001b[0m\n\u001b[1;32m    466\u001b[0m             \u001b[0mself\u001b[0m\u001b[0;34m.\u001b[0m\u001b[0mapi\u001b[0m \u001b[0;34m=\u001b[0m \u001b[0mget_libjulia\u001b[0m\u001b[0;34m(\u001b[0m\u001b[0;34m)\u001b[0m\u001b[0;34m\u001b[0m\u001b[0;34m\u001b[0m\u001b[0m\n\u001b[1;32m    467\u001b[0m         \u001b[0;32melif\u001b[0m \u001b[0minit_julia\u001b[0m\u001b[0;34m:\u001b[0m\u001b[0;34m\u001b[0m\u001b[0;34m\u001b[0m\u001b[0m\n\u001b[0;32m--> 468\u001b[0;31m             \u001b[0mjlinfo\u001b[0m \u001b[0;34m=\u001b[0m \u001b[0mJuliaInfo\u001b[0m\u001b[0;34m.\u001b[0m\u001b[0mload\u001b[0m\u001b[0;34m(\u001b[0m\u001b[0mruntime\u001b[0m\u001b[0;34m)\u001b[0m\u001b[0;34m\u001b[0m\u001b[0;34m\u001b[0m\u001b[0m\n\u001b[0m\u001b[1;32m    469\u001b[0m             \u001b[0;32mif\u001b[0m \u001b[0mjlinfo\u001b[0m\u001b[0;34m.\u001b[0m\u001b[0mversion_info\u001b[0m \u001b[0;34m<\u001b[0m \u001b[0;34m(\u001b[0m\u001b[0;36m0\u001b[0m\u001b[0;34m,\u001b[0m \u001b[0;36m7\u001b[0m\u001b[0;34m)\u001b[0m\u001b[0;34m:\u001b[0m\u001b[0;34m\u001b[0m\u001b[0;34m\u001b[0m\u001b[0m\n\u001b[1;32m    470\u001b[0m                 \u001b[0;32mraise\u001b[0m \u001b[0mRuntimeError\u001b[0m\u001b[0;34m(\u001b[0m\u001b[0;34m\"PyJulia does not support Julia < 0.7 anymore\"\u001b[0m\u001b[0;34m)\u001b[0m\u001b[0;34m\u001b[0m\u001b[0;34m\u001b[0m\u001b[0m\n",
      "\u001b[0;32m/opt/anaconda3/lib/python3.9/site-packages/julia/juliainfo.py\u001b[0m in \u001b[0;36mload\u001b[0;34m(cls, julia, **popen_kwargs)\u001b[0m\n\u001b[1;32m     66\u001b[0m             \u001b[0mos\u001b[0m\u001b[0;34m.\u001b[0m\u001b[0mpath\u001b[0m\u001b[0;34m.\u001b[0m\u001b[0mdirname\u001b[0m\u001b[0;34m(\u001b[0m\u001b[0mos\u001b[0m\u001b[0;34m.\u001b[0m\u001b[0mpath\u001b[0m\u001b[0;34m.\u001b[0m\u001b[0mrealpath\u001b[0m\u001b[0;34m(\u001b[0m\u001b[0m__file__\u001b[0m\u001b[0;34m)\u001b[0m\u001b[0;34m)\u001b[0m\u001b[0;34m,\u001b[0m \u001b[0;34m\"juliainfo.jl\"\u001b[0m\u001b[0;34m\u001b[0m\u001b[0;34m\u001b[0m\u001b[0m\n\u001b[1;32m     67\u001b[0m         )\n\u001b[0;32m---> 68\u001b[0;31m         proc = subprocess.Popen(\n\u001b[0m\u001b[1;32m     69\u001b[0m             \u001b[0;34m[\u001b[0m\u001b[0mjulia\u001b[0m\u001b[0;34m,\u001b[0m \u001b[0;34m\"--startup-file=no\"\u001b[0m\u001b[0;34m,\u001b[0m \u001b[0mjuliainfo_script\u001b[0m\u001b[0;34m]\u001b[0m\u001b[0;34m,\u001b[0m\u001b[0;34m\u001b[0m\u001b[0;34m\u001b[0m\u001b[0m\n\u001b[1;32m     70\u001b[0m             \u001b[0mstdout\u001b[0m\u001b[0;34m=\u001b[0m\u001b[0msubprocess\u001b[0m\u001b[0;34m.\u001b[0m\u001b[0mPIPE\u001b[0m\u001b[0;34m,\u001b[0m\u001b[0;34m\u001b[0m\u001b[0;34m\u001b[0m\u001b[0m\n",
      "\u001b[0;32m/opt/anaconda3/lib/python3.9/subprocess.py\u001b[0m in \u001b[0;36m__init__\u001b[0;34m(self, args, bufsize, executable, stdin, stdout, stderr, preexec_fn, close_fds, shell, cwd, env, universal_newlines, startupinfo, creationflags, restore_signals, start_new_session, pass_fds, user, group, extra_groups, encoding, errors, text, umask)\u001b[0m\n\u001b[1;32m    949\u001b[0m                             encoding=encoding, errors=errors)\n\u001b[1;32m    950\u001b[0m \u001b[0;34m\u001b[0m\u001b[0m\n\u001b[0;32m--> 951\u001b[0;31m             self._execute_child(args, executable, preexec_fn, close_fds,\n\u001b[0m\u001b[1;32m    952\u001b[0m                                 \u001b[0mpass_fds\u001b[0m\u001b[0;34m,\u001b[0m \u001b[0mcwd\u001b[0m\u001b[0;34m,\u001b[0m \u001b[0menv\u001b[0m\u001b[0;34m,\u001b[0m\u001b[0;34m\u001b[0m\u001b[0;34m\u001b[0m\u001b[0m\n\u001b[1;32m    953\u001b[0m                                 \u001b[0mstartupinfo\u001b[0m\u001b[0;34m,\u001b[0m \u001b[0mcreationflags\u001b[0m\u001b[0;34m,\u001b[0m \u001b[0mshell\u001b[0m\u001b[0;34m,\u001b[0m\u001b[0;34m\u001b[0m\u001b[0;34m\u001b[0m\u001b[0m\n",
      "\u001b[0;32m/opt/anaconda3/lib/python3.9/subprocess.py\u001b[0m in \u001b[0;36m_execute_child\u001b[0;34m(self, args, executable, preexec_fn, close_fds, pass_fds, cwd, env, startupinfo, creationflags, shell, p2cread, p2cwrite, c2pread, c2pwrite, errread, errwrite, restore_signals, gid, gids, uid, umask, start_new_session)\u001b[0m\n\u001b[1;32m   1819\u001b[0m                     \u001b[0;32mif\u001b[0m \u001b[0merrno_num\u001b[0m \u001b[0;34m!=\u001b[0m \u001b[0;36m0\u001b[0m\u001b[0;34m:\u001b[0m\u001b[0;34m\u001b[0m\u001b[0;34m\u001b[0m\u001b[0m\n\u001b[1;32m   1820\u001b[0m                         \u001b[0merr_msg\u001b[0m \u001b[0;34m=\u001b[0m \u001b[0mos\u001b[0m\u001b[0;34m.\u001b[0m\u001b[0mstrerror\u001b[0m\u001b[0;34m(\u001b[0m\u001b[0merrno_num\u001b[0m\u001b[0;34m)\u001b[0m\u001b[0;34m\u001b[0m\u001b[0;34m\u001b[0m\u001b[0m\n\u001b[0;32m-> 1821\u001b[0;31m                     \u001b[0;32mraise\u001b[0m \u001b[0mchild_exception_type\u001b[0m\u001b[0;34m(\u001b[0m\u001b[0merrno_num\u001b[0m\u001b[0;34m,\u001b[0m \u001b[0merr_msg\u001b[0m\u001b[0;34m,\u001b[0m \u001b[0merr_filename\u001b[0m\u001b[0;34m)\u001b[0m\u001b[0;34m\u001b[0m\u001b[0;34m\u001b[0m\u001b[0m\n\u001b[0m\u001b[1;32m   1822\u001b[0m                 \u001b[0;32mraise\u001b[0m \u001b[0mchild_exception_type\u001b[0m\u001b[0;34m(\u001b[0m\u001b[0merr_msg\u001b[0m\u001b[0;34m)\u001b[0m\u001b[0;34m\u001b[0m\u001b[0;34m\u001b[0m\u001b[0m\n\u001b[1;32m   1823\u001b[0m \u001b[0;34m\u001b[0m\u001b[0m\n",
      "\u001b[0;31mFileNotFoundError\u001b[0m: [Errno 2] No such file or directory: 'julia'"
     ]
    }
   ],
   "source": [
    "reports, reports_r = evaluateTour(start='versoix',\n",
    "                                  end='bern',\n",
    "                                  use_transport=True,\n",
    "                                  optimize='time',\n",
    "                                  data_version=data_version,\n",
    "                                  save_plot=False)"
   ]
  },
  {
   "cell_type": "code",
   "execution_count": null,
   "id": "25ac1132",
   "metadata": {},
   "outputs": [],
   "source": [
    "for start in tqdm.tqdm(list(checkpoints.keys())):\n",
    "    \n",
    "    reports, reports_r = evaluateTour(start=start,\n",
    "                                      end='bern',\n",
    "                                      use_transport=True,\n",
    "                                      optimize='time',\n",
    "                                      data_version=data_version,\n",
    "                                      save_plot=False)"
   ]
  },
  {
   "cell_type": "code",
   "execution_count": null,
   "id": "e91fe5b0",
   "metadata": {},
   "outputs": [],
   "source": []
  },
  {
   "cell_type": "code",
   "execution_count": null,
   "id": "e4e019f6",
   "metadata": {},
   "outputs": [],
   "source": []
  },
  {
   "cell_type": "code",
   "execution_count": null,
   "id": "0f0cdd0e",
   "metadata": {},
   "outputs": [],
   "source": []
  },
  {
   "cell_type": "code",
   "execution_count": null,
   "id": "ca00bbad",
   "metadata": {},
   "outputs": [],
   "source": [
    "reports = []\n",
    "reports_r = []\n",
    "tour_costs = []\n",
    "\n",
    "optimize = 'time'\n",
    "\n",
    "use_transport = True\n",
    "save_plot = False\n",
    "\n",
    "end = 'bern'\n",
    "\n",
    "\n",
    "\n",
    "# LOAD CANTONAL BORDER DATA\n",
    "###########################################################################\n",
    "\n",
    "df_cantons = gpd.read_file(os.path.join(DATA_PATH, 'SHP_FILES', 'swissBOUNDARIES3D_1_3_TLM_KANTONSGEBIET.shp'))\n",
    "cantons = df_cantons['NAME'].unique()\n",
    "\n",
    "# DEFINE CP COORDS IN MN95 FORMAT\n",
    "###########################################################################\n",
    "\n",
    "cp_coord_x = [2588950.069, 2677691.166, 2680954.976, 2688009.628, 2566249.259, 2759952.968, 2600422.411]\n",
    "cp_coord_y = [1134641.528, 1202811.284, 1205098.173, 1168980.565, 1223196.312, 1176579.977, 1199574.686]\n",
    "\n",
    "\n",
    "for start in tqdm.tqdm(list(checkpoints.keys())):\n",
    "    \n",
    "    # LOAD GM API DATA AND CREATE DISTANCE MATRIX\n",
    "###########################################################################\n",
    "\n",
    "    if optimize == 'time':\n",
    "\n",
    "        with open(os.path.join(DATA_PATH, 'DIST_MATRIX', f'api_data_time_{data_version}.json'), 'r') as file:\n",
    "            api_data = json.load(file)\n",
    "\n",
    "        df = createDistanceMatrix(api_data, use_transport=use_transport, optimize=optimize)\n",
    "\n",
    "        with open(os.path.join(DATA_PATH, 'DIST_MATRIX', f'api_data_dist_{data_version}.json'), 'r') as file:\n",
    "            api_data_distance = json.load(file)\n",
    "\n",
    "        df_distance = createDistanceMatrix(api_data_distance, use_transport=use_transport, optimize='distance')\n",
    "\n",
    "    elif optimize == 'distance':\n",
    "\n",
    "        with open(os.path.join(DATA_PATH, 'DIST_MATRIX', f'api_data_dist_{data_version}.json'), 'r') as file:\n",
    "            api_data = json.load(file)\n",
    "\n",
    "        df = createDistanceMatrix(api_data, use_transport=use_transport, optimize=optimize)\n",
    "\n",
    "        df_distance = df.copy()\n",
    "    \n",
    "    # CREATE DUMMY NODE\n",
    "    ###########################################################################\n",
    "    \n",
    "    df = createDummyNode(df, start, end, checkpoints)\n",
    "    \n",
    "    # ADD CLUSTER\n",
    "    ###########################################################################\n",
    "    \n",
    "    such_2022, clusters = createClusters(checkpoints, cluster_mapping, data_version)\n",
    "    \n",
    "    # CREATE GTSP FILE\n",
    "    ###########################################################################\n",
    "    \n",
    "    createGTSPfile(df, clusters)\n",
    "    \n",
    "    # RUN JULIA SOLVER\n",
    "    ###########################################################################\n",
    "\n",
    "    !/Applications/Julia-1.7.app/Contents/Resources/julia/bin/julia ../scripts/gtsp_solver.jl\n",
    "    \n",
    "    # LOAD OPTIMAL TOUR\n",
    "    ###########################################################################\n",
    "    \n",
    "    tour, tour_cost = loadOptimalTour('tour_test_2022.txt')\n",
    "    \n",
    "    tour_costs.append(tour_cost)\n",
    "\n",
    "    # RE-ORDER OPTIMAL TOUR\n",
    "    ###########################################################################\n",
    "\n",
    "    tour_coord_x, tour_coord_y, df_tour = reOrderTour(such_2022, tour, cluster_mapping)\n",
    "\n",
    "    # PLOT OPTIMAL TOUR\n",
    "    ###########################################################################\n",
    "    \n",
    "    fig, ax = plt.subplots(figsize=(25,13))\n",
    "\n",
    "    for canton in cantons:\n",
    "        x_c, y_c = df_cantons[df_cantons['NAME']==canton]['geometry'].iloc[0].exterior.coords.xy\n",
    "        x_c = list(x_c)[:-1]\n",
    "        y_c = list(y_c)[:-1]\n",
    "        ax.plot(x_c, y_c)\n",
    "\n",
    "    ax.plot(cp_coord_x, cp_coord_y, 'r*', markersize=15)\n",
    "\n",
    "    ax.plot(tour_coord_x, tour_coord_y, '-o', markersize=15)\n",
    "\n",
    "    for i, (x, y) in enumerate(zip(tour_coord_x, tour_coord_y)):\n",
    "\n",
    "        ax.text(x, y, i, fontsize='large')\n",
    "\n",
    "    ax.text(2830000, 1300000, f'cost: {tour_cost}', fontsize='large')\n",
    "    ax.set_title(f'start: {start} / end: {end}')\n",
    "\n",
    "    if save_plot:\n",
    "        \n",
    "        plt.savefig(os.path.join(DATA_PATH, 'TOUR_VIZ', '2022', f'{start}_{end}_{tour_cost}.png'))\n",
    "        \n",
    "    plt.show()\n",
    "    \n",
    "    # CREATE REPORTS\n",
    "    ###########################################################################\n",
    "                    \n",
    "    reports.append(getRouteReport(df_tour, df_distance, checkpoints, mandatory_checkpoints, cp_opening_times, avg_speed=26, reverse=False))\n",
    "    reports_r.append(getRouteReport(df_tour, df_distance, checkpoints, mandatory_checkpoints, cp_opening_times, avg_speed=26, reverse=True))"
   ]
  },
  {
   "cell_type": "markdown",
   "id": "a29967cc",
   "metadata": {},
   "source": [
    "# OPTIMAL TOUR ANALYSIS"
   ]
  },
  {
   "cell_type": "code",
   "execution_count": null,
   "id": "27d991a1",
   "metadata": {},
   "outputs": [],
   "source": [
    "tour_costs = [int(x) for x in tour_costs]\n",
    "plt.bar(range(len(tour_costs)), tour_costs)\n",
    "plt.ylim(200000, 260000)\n",
    "plt.show()"
   ]
  },
  {
   "cell_type": "code",
   "execution_count": null,
   "id": "69c0cecd",
   "metadata": {},
   "outputs": [],
   "source": [
    "tour_costs_dist = []\n",
    "\n",
    "for report, report_r in zip(reports, reports_r):\n",
    "    \n",
    "    if report.cum_dist_km.iloc[-1] > report_r.cum_dist_km.iloc[-1]:\n",
    "        \n",
    "        tour_costs_dist.append(report.cum_dist_km.iloc[-1])\n",
    "    \n",
    "    else:\n",
    "        \n",
    "        tour_costs_dist.append(report_r.cum_dist_km.iloc[-1])\n",
    "        \n",
    "\n",
    "plt.bar(range(len(tour_costs_dist)), [int(x) for x in tour_costs_dist])\n",
    "plt.ylim(1000, 1350)\n",
    "plt.show()"
   ]
  },
  {
   "cell_type": "code",
   "execution_count": null,
   "id": "07105729",
   "metadata": {},
   "outputs": [],
   "source": [
    "print('best tours (time): ', sorted(range(len(tour_costs)), key=lambda k: tour_costs[k])[:5])\n",
    "print('best tours (distance): ', sorted(range(len(tour_costs_dist)), key=lambda k: tour_costs_dist[k])[:5])"
   ]
  },
  {
   "cell_type": "code",
   "execution_count": null,
   "id": "7f45755a",
   "metadata": {},
   "outputs": [],
   "source": [
    "reports_r[5]"
   ]
  },
  {
   "cell_type": "code",
   "execution_count": null,
   "id": "39796e9c",
   "metadata": {},
   "outputs": [],
   "source": []
  },
  {
   "cell_type": "code",
   "execution_count": null,
   "id": "21165a8c",
   "metadata": {},
   "outputs": [],
   "source": []
  },
  {
   "cell_type": "markdown",
   "id": "e840ef16",
   "metadata": {},
   "source": [
    "- SET ALL TRANSPORTS TO ON\n",
    "- THEN TEST ALL COMBINATIONS OF TRANSPORTS\n",
    "- THEN SET ALL DIFFERENT DEPARTURE POINTS"
   ]
  },
  {
   "cell_type": "markdown",
   "id": "27264d3d",
   "metadata": {},
   "source": [
    "- SUBTRACT TIME FOR TRANSPORTS\n",
    "- RANK BEST ROUTES WRT TOTAL TIME\n",
    "- ADD TARGET POINTS -> MAYBE WILL HELP FOR GSTEIG IF MORE POINTS IN BE"
   ]
  },
  {
   "cell_type": "markdown",
   "id": "dc8c4d8d",
   "metadata": {},
   "source": [
    "- compute all optimal routes from all possible start points\n",
    "- for the shortest routes, compute all possible pairs of transports -> then check eta and feasability\n",
    "- for the shortest routes, compute eta at each stop -> see if transport is feasible\n",
    "\n",
    "- OTHER APPROACH: encore transport in distance matrix"
   ]
  },
  {
   "cell_type": "markdown",
   "id": "d395b7ed",
   "metadata": {},
   "source": [
    "- ELEVATION API ? \n",
    "- REQUIRE HALF MATRIX (SYMMETRY)\n",
    "- COMPUTE DIFF(ALT1, ALT2) BETWEEN 2 POINTS\n",
    "- ESTIMATE SPEEDS FOR ALL GRADIENTS -> DYNAMIC SPEED COMPUTATION"
   ]
  },
  {
   "cell_type": "code",
   "execution_count": null,
   "id": "857a17fe",
   "metadata": {},
   "outputs": [],
   "source": []
  },
  {
   "cell_type": "code",
   "execution_count": null,
   "id": "ac848408",
   "metadata": {},
   "outputs": [],
   "source": []
  },
  {
   "cell_type": "code",
   "execution_count": null,
   "id": "f3b603bd",
   "metadata": {},
   "outputs": [],
   "source": []
  },
  {
   "cell_type": "code",
   "execution_count": null,
   "id": "163f0f70",
   "metadata": {},
   "outputs": [],
   "source": []
  },
  {
   "cell_type": "code",
   "execution_count": null,
   "id": "1e54ce15",
   "metadata": {},
   "outputs": [],
   "source": []
  }
 ],
 "metadata": {
  "kernelspec": {
   "display_name": "Python 3 (ipykernel)",
   "language": "python",
   "name": "python3"
  },
  "language_info": {
   "codemirror_mode": {
    "name": "ipython",
    "version": 3
   },
   "file_extension": ".py",
   "mimetype": "text/x-python",
   "name": "python",
   "nbconvert_exporter": "python",
   "pygments_lexer": "ipython3",
   "version": "3.9.7"
  }
 },
 "nbformat": 4,
 "nbformat_minor": 5
}
